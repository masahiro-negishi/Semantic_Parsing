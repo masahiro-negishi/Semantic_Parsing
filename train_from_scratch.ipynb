{
 "cells": [
  {
   "cell_type": "markdown",
   "metadata": {},
   "source": [
    "### Environments"
   ]
  },
  {
   "cell_type": "code",
   "execution_count": 1,
   "metadata": {},
   "outputs": [],
   "source": [
    "from preprocess import * \n",
    "from model import *\n",
    "from train import *\n",
    "from evaluate import *"
   ]
  },
  {
   "cell_type": "code",
   "execution_count": 2,
   "metadata": {},
   "outputs": [
    {
     "name": "stdout",
     "output_type": "stream",
     "text": [
      "cpu\n"
     ]
    }
   ],
   "source": [
    "device = torch.device(\"cuda\" if torch.cuda.is_available() else \"cpu\")\n",
    "print(device)"
   ]
  },
  {
   "cell_type": "markdown",
   "metadata": {},
   "source": [
    "### Preprocess"
   ]
  },
  {
   "cell_type": "code",
   "execution_count": 3,
   "metadata": {},
   "outputs": [],
   "source": [
    "text_field, form_field = generate_field()"
   ]
  },
  {
   "cell_type": "code",
   "execution_count": 4,
   "metadata": {},
   "outputs": [],
   "source": [
    "train_dataset = generate_dataset('seq2seq_geoqueries/train.csv', 'csv', [(\"Text\", text_field), (\"Form\", form_field)], False)\n",
    "test_dataset = generate_dataset('seq2seq_geoqueries/test.csv', 'csv', [(\"Text\", text_field), (\"Form\", form_field)], False)"
   ]
  },
  {
   "cell_type": "code",
   "execution_count": 5,
   "metadata": {},
   "outputs": [],
   "source": [
    "text_field.build_vocab(train_dataset, min_freq=2)\n",
    "form_field.build_vocab(train_dataset, min_freq=1)"
   ]
  },
  {
   "cell_type": "code",
   "execution_count": 6,
   "metadata": {},
   "outputs": [],
   "source": [
    "batch_size = 10\n",
    "train_iterator = generate_iterator(train_dataset, batch_size, True)\n",
    "train_iterator_beam = generate_iterator(train_dataset, 1, True)\n",
    "test_iterator_beam = generate_iterator(test_dataset, 1, False, lambda x: len(x.Text[0]))"
   ]
  },
  {
   "cell_type": "markdown",
   "metadata": {},
   "source": [
    "### Model"
   ]
  },
  {
   "cell_type": "code",
   "execution_count": 7,
   "metadata": {},
   "outputs": [
    {
     "data": {
      "text/plain": [
       "Seq2Seq_Attention(\n",
       "  (encoder): Encoder_Attention(\n",
       "    (embed): Embedding(104, 200)\n",
       "    (lstm): LSTM(200, 200)\n",
       "  )\n",
       "  (decoder): Decoder_Attention(\n",
       "    (embed): Embedding(55, 200)\n",
       "    (lstm): LSTM(200, 200)\n",
       "    (W1): Linear(in_features=200, out_features=200, bias=False)\n",
       "    (W2): Linear(in_features=200, out_features=200, bias=False)\n",
       "    (Tanh): Tanh()\n",
       "    (dropout): Dropout(p=0, inplace=False)\n",
       "    (linear): Linear(in_features=200, out_features=55, bias=True)\n",
       "    (softmax): Softmax(dim=1)\n",
       "  )\n",
       ")"
      ]
     },
     "execution_count": 7,
     "metadata": {},
     "output_type": "execute_result"
    }
   ],
   "source": [
    "emb_dim = 200\n",
    "hid_dim = emb_dim\n",
    "encoder = Encoder_Attention(emb_dim, hid_dim, len(text_field.vocab.stoi), device, 1, False, 0)\n",
    "decoder = Decoder_Attention(emb_dim, hid_dim, len(form_field.vocab.stoi), device, 1, False, 0, 0)\n",
    "seq2seq = Seq2Seq_Attention(encoder, decoder, device, form_field, 0.5)\n",
    "# encoder = Encoder(emb_dim, hid_dim, len(text_field.vocab.stoi), device, 1, False, 0)\n",
    "# decoder = Decoder(emb_dim, hid_dim, len(form_field.vocab.stoi), device, 1, False, 0, 0)\n",
    "# seq2seq = Seq2Seq(encoder, decoder, device, form_field, 0.5)\n",
    "seq2seq.apply(init_weights)\n",
    "seq2seq.to(device)"
   ]
  },
  {
   "cell_type": "code",
   "execution_count": 8,
   "metadata": {},
   "outputs": [
    {
     "name": "stdout",
     "output_type": "stream",
     "text": [
      "encoder.embed.weight\n",
      "torch.Size([104, 200])\n",
      "encoder.lstm.weight_ih_l0\n",
      "torch.Size([800, 200])\n",
      "encoder.lstm.weight_hh_l0\n",
      "torch.Size([800, 200])\n",
      "encoder.lstm.bias_ih_l0\n",
      "torch.Size([800])\n",
      "encoder.lstm.bias_hh_l0\n",
      "torch.Size([800])\n",
      "decoder.embed.weight\n",
      "torch.Size([55, 200])\n",
      "decoder.lstm.weight_ih_l0\n",
      "torch.Size([800, 200])\n",
      "decoder.lstm.weight_hh_l0\n",
      "torch.Size([800, 200])\n",
      "decoder.lstm.bias_ih_l0\n",
      "torch.Size([800])\n",
      "decoder.lstm.bias_hh_l0\n",
      "torch.Size([800])\n",
      "decoder.W1.weight\n",
      "torch.Size([200, 200])\n",
      "decoder.W2.weight\n",
      "torch.Size([200, 200])\n",
      "decoder.linear.weight\n",
      "torch.Size([55, 200])\n",
      "decoder.linear.bias\n",
      "torch.Size([55])\n"
     ]
    }
   ],
   "source": [
    "for name, param in seq2seq.named_parameters():\n",
    "    print(name)\n",
    "    print(param.shape)"
   ]
  },
  {
   "cell_type": "code",
   "execution_count": 9,
   "metadata": {},
   "outputs": [],
   "source": [
    "criterion, optimzier = generate_criterion_and_optimzier(form_field.vocab.stoi['<pad>'], seq2seq.parameters(), 1e-4, 0.95)"
   ]
  },
  {
   "cell_type": "markdown",
   "metadata": {},
   "source": [
    "### Train"
   ]
  },
  {
   "cell_type": "code",
   "execution_count": 10,
   "metadata": {},
   "outputs": [
    {
     "name": "stdout",
     "output_type": "stream",
     "text": [
      "0 151.7109785715739\n",
      "1 141.98718643188477\n",
      "2 141.867911529541\n",
      "3 139.90801773071288\n",
      "4 141.87744115193684\n",
      "5 143.3367446899414\n",
      "6 143.30537923177084\n",
      "7 142.1083443959554\n",
      "8 144.01649119059246\n",
      "9 140.5658494313558\n",
      "10 141.054109954834\n",
      "11 140.60072758992513\n",
      "12 141.45082728068033\n",
      "13 144.05261357625326\n",
      "14 143.28881378173827\n",
      "15 141.83767534891766\n",
      "16 144.05521354675292\n",
      "17 139.98696670532226\n",
      "18 141.74358940124512\n",
      "19 140.34753227233887\n"
     ]
    }
   ],
   "source": [
    "epoch_num = 20\n",
    "loss_hist = train(epoch_num, seq2seq, train_iterator, optimzier, criterion, device)"
   ]
  },
  {
   "cell_type": "code",
   "execution_count": 11,
   "metadata": {},
   "outputs": [
    {
     "data": {
      "image/png": "[encoded data removed]",
      "text/plain": [
       "<Figure size 432x288 with 1 Axes>"
      ]
     },
     "metadata": {
      "needs_background": "light"
     },
     "output_type": "display_data"
    }
   ],
   "source": [
    "plot_loss(loss_hist, \"batch10_lr1e-4_woatt_nodrop\")"
   ]
  },
  {
   "cell_type": "code",
   "execution_count": 12,
   "metadata": {},
   "outputs": [],
   "source": [
    "save_model(seq2seq, \"models/epoch20_batch10_lr1e-4_woatt_nodrop_ss0.5.pth\")"
   ]
  },
  {
   "cell_type": "markdown",
   "metadata": {},
   "source": [
    "### Test"
   ]
  },
  {
   "cell_type": "code",
   "execution_count": 13,
   "metadata": {},
   "outputs": [
    {
     "name": "stdout",
     "output_type": "stream",
     "text": [
      "10 / 600\n",
      "20 / 600\n",
      "30 / 600\n",
      "40 / 600\n",
      "50 / 600\n",
      "60 / 600\n",
      "70 / 600\n",
      "80 / 600\n",
      "90 / 600\n",
      "100 / 600\n",
      "110 / 600\n",
      "120 / 600\n",
      "130 / 600\n",
      "140 / 600\n",
      "150 / 600\n",
      "160 / 600\n",
      "170 / 600\n",
      "180 / 600\n",
      "190 / 600\n",
      "200 / 600\n",
      "210 / 600\n",
      "220 / 600\n",
      "230 / 600\n",
      "240 / 600\n",
      "250 / 600\n",
      "260 / 600\n",
      "270 / 600\n",
      "280 / 600\n",
      "290 / 600\n",
      "300 / 600\n",
      "310 / 600\n",
      "320 / 600\n",
      "330 / 600\n",
      "340 / 600\n",
      "350 / 600\n",
      "360 / 600\n",
      "370 / 600\n",
      "380 / 600\n",
      "390 / 600\n",
      "400 / 600\n",
      "410 / 600\n",
      "420 / 600\n",
      "430 / 600\n",
      "440 / 600\n",
      "450 / 600\n",
      "460 / 600\n",
      "470 / 600\n",
      "480 / 600\n",
      "490 / 600\n",
      "500 / 600\n",
      "510 / 600\n",
      "520 / 600\n",
      "530 / 600\n",
      "540 / 600\n",
      "550 / 600\n",
      "560 / 600\n",
      "570 / 600\n",
      "580 / 600\n",
      "590 / 600\n",
      "600 / 600\n",
      "Sentence level accuracy:  0.0\n",
      "Bleu score: 0.02481469084173991\n"
     ]
    }
   ],
   "source": [
    "evaluate(seq2seq, train_iterator_beam, device, form_field, len(train_dataset))"
   ]
  },
  {
   "cell_type": "code",
   "execution_count": 14,
   "metadata": {},
   "outputs": [
    {
     "name": "stdout",
     "output_type": "stream",
     "text": [
      "10 / 280\n",
      "20 / 280\n",
      "30 / 280\n",
      "40 / 280\n",
      "50 / 280\n",
      "60 / 280\n",
      "70 / 280\n",
      "80 / 280\n",
      "90 / 280\n",
      "100 / 280\n",
      "110 / 280\n",
      "120 / 280\n",
      "130 / 280\n",
      "140 / 280\n",
      "150 / 280\n",
      "160 / 280\n",
      "170 / 280\n",
      "180 / 280\n",
      "190 / 280\n",
      "200 / 280\n",
      "210 / 280\n",
      "220 / 280\n",
      "230 / 280\n",
      "240 / 280\n",
      "250 / 280\n",
      "260 / 280\n",
      "270 / 280\n",
      "280 / 280\n",
      "Sentence level accuracy:  0.0\n",
      "Bleu score: 0.03004998124422313\n"
     ]
    }
   ],
   "source": [
    "evaluate(seq2seq, test_iterator_beam, device, form_field, len(test_dataset))"
   ]
  }
 ],
 "metadata": {
  "kernelspec": {
   "display_name": "Python 3.10.4 ('semparse')",
   "language": "python",
   "name": "python3"
  },
  "language_info": {
   "codemirror_mode": {
    "name": "ipython",
    "version": 3
   },
   "file_extension": ".py",
   "mimetype": "text/x-python",
   "name": "python",
   "nbconvert_exporter": "python",
   "pygments_lexer": "ipython3",
   "version": "3.10.4"
  },
  "orig_nbformat": 4,
  "vscode": {
   "interpreter": {
    "hash": "c0670093f5def8dbaf1c78569a448d0324e8e6700e913c889c09cd17129abd75"
   }
  }
 },
 "nbformat": 4,
 "nbformat_minor": 2
}
